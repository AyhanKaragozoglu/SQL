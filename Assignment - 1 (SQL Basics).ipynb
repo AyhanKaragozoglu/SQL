{
    "metadata": {
        "kernelspec": {
            "name": "SQL",
            "display_name": "SQL",
            "language": "sql"
        },
        "language_info": {
            "name": "sql",
            "version": ""
        }
    },
    "nbformat_minor": 2,
    "nbformat": 4,
    "cells": [
        {
            "cell_type": "markdown",
            "source": [
                "How many customers are in each city? Your solution should include the city name and the number of customers sorted from highest to lowest."
            ],
            "metadata": {
                "azdata_cell_guid": "eb864c47-ef00-4d21-8c31-997843ea49eb"
            }
        },
        {
            "cell_type": "code",
            "source": [
                "SELECT city, COUNT(customer_id) number_of_customers\n",
                "FROM sale.customer\n",
                "GROUP BY city \n",
                "ORDER by city DESC;\n",
                "\n",
                "--2. Find the total product quantity of the orders. Your solution should include order ids and quantity of products.\n",
                "\n",
                "SELECT s.[quantity] , o.[order_id] \n",
                "FROM [sale].[order_item]  as o \n",
                "JOIN [product].[stock] as s \n",
                "ON s.product_id = o.order_id\n",
                "\n",
                "\n",
                "\n",
                "\n",
                "--3. Find the first order date for each customer_id.\n",
                "\n",
                "SELECT  c.[customer_id],c.[first_name] ,c.[last_name], o.[order_date]\n",
                "from [sale].[customer] as c \n",
                "JOIN [sale].[orders] as o \n",
                "ON c.customer_id = o.customer_id\n",
                "\n",
                "\n",
                "\n",
                "--4. Find the total amount of each order. Your solution should include order id and total amount sorted from highest to lowest.\n",
                "\n",
                "SELECT [order_id],[list_price] \n",
                "FROM [sale].[order_item]\n",
                "ORDER by [list_price] DESC;\n",
                "\n",
                "--5. Find the order id that has the maximum average product price. Your solution should include only one row with the order id and average product price.\n",
                "\n",
                "SELECT TOP 1 product_name, list_price\n",
                "FROM product.product\n",
                "ORDER BY list_price DESC;\n",
                "--6. Write a query that displays brand_id, product_id and list_price sorted first by brand_id (in ascending order), and then by list_price  (in descending order).\n",
                "\n",
                "SELECT b.brand_id, p.product_id, p.list_price \n",
                "FROM [product].[product] AS p \n",
                "JOIN [product].[brand] as b \n",
                "ON b.brand_id = p.product_id \n",
                "ORDER by b.brand_id asc,p.list_price DESC;\n",
                "\n",
                "--7. Write a query that displays brand_id, product_id and list_price, but this time sorted first by list_price (in descending order), and then by brand_id (in ascending order).\n",
                "SELECT b.brand_id, p.product_id, p.list_price \n",
                "FROM [product].[product] AS p \n",
                "JOIN [product].[brand] as b \n",
                "ON b.brand_id = p.product_id \n",
                "ORDER by p.list_price ASC,b.brand_id DESC;\n",
                "\n",
                "\n",
                "--8. Compare the results of these two queries above. How are the results different when you switch the column you sort on first? (Explain it in your own words.)\n",
                "\n",
                "-- ilk kodda brand_id ye göre sıraladı ve list_price karışık geldi. ikinci kodda list_price öncelik ona göre de brand karışık geldi\n",
                "\n",
                "--9. Write a query to pull the first 10 rows and all columns from the product table that have a list_price greater than or equal to 3000.\n",
                "\n",
                "SELECT top 10 [list_price] FROM [product].[product] WHERE [list_price] >=  3000\n",
                "\n",
                "--10. Write a query to pull the first 5 rows and all columns from the product table that have a list_price less than 3000.\n",
                "\n",
                "SELECT top 5 *  from [product].[product] WHERE  [list_price] < 3000\n",
                "\n",
                "--11. Find all customer last names that start with 'B' and end with 's'.\n",
                "\n",
                "SELECT [last_name] FROM [sale].[customer] WHERE last_name LIKE '[B]%s%' ;\n",
                "\n",
                "--12. Use the customer table to find all information regarding customers whose address is Allen or Buffalo or Boston or Berkeley.\n",
                "\n",
                "SELECT * FROM [sale].[customer] WHERE city = 'Allen' OR city = 'Buffalo' OR city = 'Boston' OR city = 'Berkeley'"
            ],
            "metadata": {
                "azdata_cell_guid": "014223fc-6c93-4a99-abc4-3f11c7dba1f6",
                "language": "sql"
            },
            "outputs": [],
            "execution_count": null
        }
    ]
}